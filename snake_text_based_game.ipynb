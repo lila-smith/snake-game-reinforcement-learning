{
 "cells": [
  {
   "cell_type": "code",
   "execution_count": 23,
   "metadata": {},
   "outputs": [
    {
     "output_type": "stream",
     "name": "stdout",
     "text": [
      "The autoreload extension is already loaded. To reload it, use:\n  %reload_ext autoreload\n"
     ]
    }
   ],
   "source": [
    "%load_ext autoreload\n",
    "%autoreload 2"
   ]
  },
  {
   "cell_type": "code",
   "execution_count": 24,
   "metadata": {},
   "outputs": [],
   "source": [
    "from snake_model import GameBoard\n",
    "from snake_view import PygameView\n",
    "from snake_controller import SnakePlayer"
   ]
  },
  {
   "cell_type": "code",
   "execution_count": 49,
   "metadata": {},
   "outputs": [
    {
     "output_type": "stream",
     "name": "stdout",
     "text": [
      "##########\n#        #\n#        #\n#        #\n#        #\n#    o   #\n#        #\n#        #\n#  @     #\n##########\n\n"
     ]
    }
   ],
   "source": [
    "# Run this to initialize gameboard\n",
    "gameboard = GameBoard(10)\n",
    "graphic_view = PygameView(gameboard)\n",
    "print(gameboard)"
   ]
  },
  {
   "cell_type": "code",
   "execution_count": 82,
   "metadata": {},
   "outputs": [],
   "source": [
    "#Use when you want to change direction\n",
    "directions = {\n",
    "    \"l\": [0, -1],\n",
    "    \"r\": [0, 1],\n",
    "    \"u\": [-1, 0],\n",
    "    \"d\": [1, 0],\n",
    "}\n",
    "gameboard.change_direction(directions[\"u\"])"
   ]
  },
  {
   "cell_type": "code",
   "execution_count": 85,
   "metadata": {},
   "outputs": [
    {
     "output_type": "stream",
     "name": "stdout",
     "text": [
      "##########\n#        #\n#        #\n# @   o  #\n#     ■  #\n#     ■  #\n#    ■■  #\n#        #\n#        #\n##########\n\n"
     ]
    }
   ],
   "source": [
    "#Use this to step forward\n",
    "gameboard.check_next_square()\n",
    "print(gameboard)"
   ]
  }
 ],
 "metadata": {
  "kernelspec": {
   "display_name": "Python 3",
   "language": "python",
   "name": "python3"
  },
  "language_info": {
   "codemirror_mode": {
    "name": "ipython",
    "version": 3
   },
   "file_extension": ".py",
   "mimetype": "text/x-python",
   "name": "python",
   "nbconvert_exporter": "python",
   "pygments_lexer": "ipython3",
   "version": "3.8.5"
  }
 },
 "nbformat": 4,
 "nbformat_minor": 4
}